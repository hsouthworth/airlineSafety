{
 "cells": [
  {
   "cell_type": "markdown",
   "metadata": {},
   "source": [
    "# Loading the Pandas library"
   ]
  },
  {
   "cell_type": "markdown",
   "metadata": {},
   "source": [
    "The pandas library is not included as part of the Python standard library. Because of this, we must first import the library into our program"
   ]
  },
  {
   "cell_type": "code",
   "execution_count": 4,
   "metadata": {},
   "outputs": [],
   "source": [
    "import pandas\n"
   ]
  },
  {
   "cell_type": "markdown",
   "metadata": {},
   "source": [
    "# Awesome, you imported pandas, now what?\n",
    "\n",
    "Now that the pandas library has been imported into your python program,\n",
    "it's now time to load in our first data set.\n",
    "\n",
    "The pandas library allows for various types of data files to be loaded into your program such as:\n",
    "* CSV\n",
    "* Excel\n",
    "* html\n",
    "* sql\n",
    "* json\n",
    "* And many more\n",
    "\n",
    "For our purposes, we will use CSV data files\n",
    "\n",
    "# The read_csv() function\n",
    "\n",
    "We will use the read_csv function to load our first data file into our program.\n",
    "This function will load in the data in what is called a 'dataframe'\n",
    "Dot notation is used to access the functions located within the pandas library"
   ]
  },
  {
   "cell_type": "code",
   "execution_count": 6,
   "metadata": {},
   "outputs": [
    {
     "name": "stdout",
     "output_type": "stream",
     "text": [
      "<class 'pandas.core.frame.DataFrame'>\n",
      "             MeterId            StartDate              EndDate  Value (kWh)  \\\n",
      "0  10443720000759353  2018-08-05 00:00:00  2018-08-05 01:00:00        2.343   \n",
      "1  10443720000759353  2018-08-05 01:00:00  2018-08-05 02:00:00        1.211   \n",
      "2  10443720000759353  2018-08-05 02:00:00  2018-08-05 03:00:00        1.199   \n",
      "3  10443720000759353  2018-08-05 03:00:00  2018-08-05 04:00:00        2.251   \n",
      "4  10443720000759353  2018-08-05 04:00:00  2018-08-05 05:00:00        1.064   \n",
      "\n",
      "   Notes  \n",
      "0    NaN  \n",
      "1    NaN  \n",
      "2    NaN  \n",
      "3    NaN  \n",
      "4    NaN  \n"
     ]
    }
   ],
   "source": [
    "import pandas\n",
    "\n",
    "dataframe = pandas.read_csv('usage_2018-08-22.csv')\n",
    "\n",
    "print(type(dataframe))\n",
    "\n",
    "print(dataframe.head())"
   ]
  },
  {
   "cell_type": "markdown",
   "metadata": {},
   "source": [
    "## Checking our data\n",
    "\n",
    "By running the exmample above, you can see that we imported the pandas library, and\n",
    "read in the file usage_2018-08-22.csv\n",
    "\n",
    "We also checked that we correctly created a dataframe by calling the python function 'type', which shows that the variable dataframe is of the type 'pandas.core.frame.DataFrame'.\n",
    "\n",
    "We can also verify the content of the datafile by using a function of the dataframe object called 'head()', which will show the first 5 rows of our data"
   ]
  },
  {
   "cell_type": "markdown",
   "metadata": {},
   "source": [
    "## Examining our data\n",
    "\n",
    "There are many attributes associated with a dataframe object. They include:\n",
    "* shape - which tells us the number of rows and colunms in the dataframe, displayed as a tuple\n",
    "* columns - which tells us the names of the columns in the dataframe\n",
    "* dtypes - which tells us the datatype of each column\n",
    "\n",
    "Or, if you would rather see all of this information in one step, the dataframe object also has a built in function called 'info()' which will display the number and the names of the columns, the datatypes, and more"
   ]
  },
  {
   "cell_type": "code",
   "execution_count": 7,
   "metadata": {},
   "outputs": [
    {
     "name": "stdout",
     "output_type": "stream",
     "text": [
      "(432, 5)\n"
     ]
    }
   ],
   "source": [
    "import pandas\n",
    "\n",
    "dataframe = pandas.read_csv('usage_2018-08-22.csv')\n",
    "\n",
    "print(dataframe.shape)"
   ]
  },
  {
   "cell_type": "code",
   "execution_count": 8,
   "metadata": {},
   "outputs": [
    {
     "name": "stdout",
     "output_type": "stream",
     "text": [
      "Index(['MeterId', 'StartDate', 'EndDate', 'Value (kWh)', 'Notes'], dtype='object')\n"
     ]
    }
   ],
   "source": [
    "import pandas\n",
    "\n",
    "dataframe = pandas.read_csv('usage_2018-08-22.csv')\n",
    "\n",
    "print(dataframe.columns)"
   ]
  },
  {
   "cell_type": "code",
   "execution_count": 9,
   "metadata": {},
   "outputs": [
    {
     "name": "stdout",
     "output_type": "stream",
     "text": [
      "MeterId          int64\n",
      "StartDate       object\n",
      "EndDate         object\n",
      "Value (kWh)    float64\n",
      "Notes          float64\n",
      "dtype: object\n"
     ]
    }
   ],
   "source": [
    "import pandas\n",
    "\n",
    "dataframe = pandas.read_csv('usage_2018-08-22.csv')\n",
    "\n",
    "print(dataframe.dtypes)"
   ]
  },
  {
   "cell_type": "code",
   "execution_count": 1,
   "metadata": {},
   "outputs": [
    {
     "name": "stdout",
     "output_type": "stream",
     "text": [
      "<class 'pandas.core.frame.DataFrame'>\n",
      "RangeIndex: 432 entries, 0 to 431\n",
      "Data columns (total 5 columns):\n",
      "MeterId        432 non-null int64\n",
      "StartDate      432 non-null object\n",
      "EndDate        432 non-null object\n",
      "Value (kWh)    432 non-null float64\n",
      "Notes          0 non-null float64\n",
      "dtypes: float64(2), int64(1), object(2)\n",
      "memory usage: 17.0+ KB\n",
      "None\n"
     ]
    }
   ],
   "source": [
    "import pandas\n",
    "\n",
    "dataframe = pandas.read_csv('usage_2018-08-22.csv')\n",
    "\n",
    "print(dataframe.info())"
   ]
  },
  {
   "cell_type": "markdown",
   "metadata": {},
   "source": [
    "## Datatypes in pandas\n",
    "\n",
    "As you can see above, the datatypes in pandas are a little different than those used in python.\n",
    "Here is the relation between pandas and python datatypes\n",
    "\n",
    "| Pandas | Python | Description  |\n",
    "|----|---|-------|\n",
    "| object  | string | Most Common |\n",
    "| int64  | int | Whole Numbers |\n",
    "| float64  | float | Decimals |\n",
    "| datetime64  | datetime |     |\n"
   ]
  },
  {
   "cell_type": "markdown",
   "metadata": {},
   "source": [
    "## Subsetting\n",
    "\n",
    "The Pandas library allows you to subset you data by column, row, and individual cells.\n",
    "\n",
    "### Subset by Column Name"
   ]
  },
  {
   "cell_type": "code",
   "execution_count": 3,
   "metadata": {},
   "outputs": [
    {
     "name": "stdout",
     "output_type": "stream",
     "text": [
      "0    2.343\n",
      "1    1.211\n",
      "2    1.199\n",
      "3    2.251\n",
      "4    1.064\n",
      "Name: Value (kWh), dtype: float64\n"
     ]
    }
   ],
   "source": [
    "import pandas\n",
    "\n",
    "dataframe = pandas.read_csv('usage_2018-08-22.csv')\n",
    "\n",
    "subset = dataframe['Value (kWh)']\n",
    "\n",
    "print(subset.head())"
   ]
  },
  {
   "cell_type": "markdown",
   "metadata": {},
   "source": [
    "### Subset by Row\n",
    "Subsetting by row can be done in two ways:\n",
    "* Row Name (also called the index label) by using the loc[ ] function\n",
    "* Row Index by using the iloc[ ] function\n",
    "\n",
    "A majority of the time, both row name and row index will be the same.\n",
    "An example of then being different might be with data that is based on time, in which case the index label will be the timestamp and the row index will simply be the index of the row.\n",
    "\n",
    "The following will print out the first row from our dataset"
   ]
  },
  {
   "cell_type": "code",
   "execution_count": 7,
   "metadata": {},
   "outputs": [
    {
     "name": "stdout",
     "output_type": "stream",
     "text": [
      "MeterId          10443720000759353\n",
      "StartDate      2018-08-05 00:00:00\n",
      "EndDate        2018-08-05 01:00:00\n",
      "Value (kWh)                  2.343\n",
      "Notes                          NaN\n",
      "Name: 0, dtype: object\n",
      "<class 'pandas.core.series.Series'>\n"
     ]
    }
   ],
   "source": [
    "import pandas\n",
    "\n",
    "dataframe = pandas.read_csv('usage_2018-08-22.csv')\n",
    "\n",
    "print(dataframe.loc[0])\n",
    "print(type(dataframe.loc[0]))"
   ]
  },
  {
   "cell_type": "code",
   "execution_count": 8,
   "metadata": {},
   "outputs": [
    {
     "name": "stdout",
     "output_type": "stream",
     "text": [
      "MeterId          10443720000759353\n",
      "StartDate      2018-08-05 00:00:00\n",
      "EndDate        2018-08-05 01:00:00\n",
      "Value (kWh)                  2.343\n",
      "Notes                          NaN\n",
      "Name: 0, dtype: object\n",
      "<class 'pandas.core.series.Series'>\n"
     ]
    }
   ],
   "source": [
    "import pandas\n",
    "\n",
    "dataframe = pandas.read_csv('usage_2018-08-22.csv')\n",
    "\n",
    "print(dataframe.iloc[0])\n",
    "print(type(dataframe.iloc[0]))"
   ]
  },
  {
   "cell_type": "markdown",
   "metadata": {},
   "source": [
    "As you can see, using the loc[ ] and iloc[ ] functions does not return the data in a dataframe object. Rather, it returns it as a Series object. The Series object is the second major data type that the Pandas library provides"
   ]
  },
  {
   "cell_type": "markdown",
   "metadata": {},
   "source": [
    "### Subsetting by row and column\n",
    "Pandas allows you to subset by both column name and row name/index using the loc[ ] and iloc[ ] functions. In order to do this, you must pass in the row and column names are two comma separated lists"
   ]
  },
  {
   "cell_type": "code",
   "execution_count": 11,
   "metadata": {},
   "outputs": [
    {
     "name": "stdout",
     "output_type": "stream",
     "text": [
      "             MeterId\n",
      "0  10443720000759353\n"
     ]
    }
   ],
   "source": [
    "import pandas\n",
    "\n",
    "dataframe = pandas.read_csv('usage_2018-08-22.csv')\n",
    "\n",
    "print(dataframe.loc[[0],['MeterId']])"
   ]
  },
  {
   "cell_type": "markdown",
   "metadata": {},
   "source": [
    "You can also use the built-in python slicing technique to select multiple columns and rows"
   ]
  },
  {
   "cell_type": "code",
   "execution_count": 13,
   "metadata": {},
   "outputs": [
    {
     "name": "stdout",
     "output_type": "stream",
     "text": [
      "             MeterId            StartDate\n",
      "0  10443720000759353  2018-08-05 00:00:00\n",
      "1  10443720000759353  2018-08-05 01:00:00\n",
      "2  10443720000759353  2018-08-05 02:00:00\n",
      "3  10443720000759353  2018-08-05 03:00:00\n"
     ]
    }
   ],
   "source": [
    "import pandas\n",
    "\n",
    "dataframe = pandas.read_csv('usage_2018-08-22.csv')\n",
    "\n",
    "print(dataframe.iloc[:4, :2])"
   ]
  },
  {
   "cell_type": "markdown",
   "metadata": {},
   "source": [
    "### Grouping and Calculations\n",
    "\n",
    "Subsetting is one way to group your data. Using the groupby() method is another way to group data. The groupby() method takes the column name you want to group by as its parameter.\n",
    "\n",
    "Once you have grouped your data, you can subset the group based on the specific column that you want to perform a calculation on\n",
    "\n",
    "Then you can perform your calculation on the specific column of interest.\n",
    "Calculations include the sum() and mean() functions\n",
    "\n",
    "The following code will group the data based on the MeterId column name. Once it has that, it will then select the Value column from that grouped data, and then add all of the values for each MeterId(in this case there is only 1 MeterId)"
   ]
  },
  {
   "cell_type": "code",
   "execution_count": 20,
   "metadata": {},
   "outputs": [
    {
     "name": "stdout",
     "output_type": "stream",
     "text": [
      "MeterId\n",
      "10443720000759353    1003.443\n",
      "Name: Value (kWh), dtype: float64\n"
     ]
    }
   ],
   "source": [
    "import pandas\n",
    "\n",
    "dataframe = pandas.read_csv('usage_2018-08-22.csv')\n",
    "group = dataframe.groupby('MeterId')\n",
    "group_value = group['Value (kWh)']\n",
    "group_mean = group_value.sum()\n",
    "print(group_mean.head())"
   ]
  },
  {
   "cell_type": "markdown",
   "metadata": {},
   "source": [
    "## Exercise \n",
    "\n",
    "The file that is provided, usage_2018-08-22.csv, contains electric usage data hour by hour for the first billing cycle. \n",
    "\n",
    "Write a program that will display the total usage from each day in the cycle, the average usage for the cycle, and then the total usage for the cycle"
   ]
  },
  {
   "cell_type": "code",
   "execution_count": 36,
   "metadata": {},
   "outputs": [
    {
     "name": "stdout",
     "output_type": "stream",
     "text": [
      "The total usage for day  1  is:  48.415 (kWh)\n",
      "The total usage for day  2  is:  54.92 (kWh)\n",
      "The total usage for day  3  is:  56.724000000000004 (kWh)\n",
      "The total usage for day  4  is:  52.745 (kWh)\n",
      "The total usage for day  5  is:  40.929 (kWh)\n",
      "The total usage for day  6  is:  37.683 (kWh)\n",
      "The total usage for day  7  is:  42.396 (kWh)\n",
      "The total usage for day  8  is:  55.491 (kWh)\n",
      "The total usage for day  9  is:  43.948 (kWh)\n",
      "The total usage for day  10  is:  46.216 (kWh)\n",
      "The total usage for day  11  is:  57.086 (kWh)\n",
      "The total usage for day  12  is:  63.77199999999999 (kWh)\n",
      "The total usage for day  13  is:  65.13999999999999 (kWh)\n",
      "The total usage for day  14  is:  73.246 (kWh)\n",
      "The total usage for day  15  is:  76.955 (kWh)\n",
      "The total usage for day  16  is:  67.396 (kWh)\n",
      "The total usage for day  17  is:  57.003 (kWh)\n",
      "The total usage for day  18  is:  63.378 (kWh)\n",
      "\n",
      "The average daily usage is:  55.74683333333334 (kWh)\n",
      "\n",
      "The total usage for the cycle is:  1003.4430000000001 (kWh)\n"
     ]
    }
   ],
   "source": [
    "import pandas\n",
    "\n",
    "dataframe = pandas.read_csv('usage_2018-08-22.csv')\n",
    "total_hours = dataframe.shape[0]               # Shape[0] returns the total number of rows, each row represents 1 hour\n",
    "cycle_total = 0\n",
    "\n",
    "for i in range(0,total_days,24):               # Each loop will start the counter at the first hour of the next day\n",
    "    day = dataframe.loc[i:i+23,'Value (kWh)']  # By selecting the next 24 rows, I am selecting all the rows for that day\n",
    "    day_total = day.sum()\n",
    "    cycle_total+= day_total\n",
    "    print(\"The total usage for day \", int((i/24)+1),\" is: \", day_total, \"(kWh)\")\n",
    "\n",
    "average_usage = cycle_total/(total_hours/24)\n",
    "print(\"\\nThe average daily usage is: \", average_usage, \"(kWh)\")\n",
    "print(\"\\nThe total usage for the cycle is: \", cycle_total, \"(kWh)\")\n",
    "    \n",
    "\n"
   ]
  },
  {
   "cell_type": "code",
   "execution_count": null,
   "metadata": {},
   "outputs": [],
   "source": []
  }
 ],
 "metadata": {
  "kernelspec": {
   "display_name": "Python 3",
   "language": "python",
   "name": "python3"
  },
  "language_info": {
   "codemirror_mode": {
    "name": "ipython",
    "version": 3
   },
   "file_extension": ".py",
   "mimetype": "text/x-python",
   "name": "python",
   "nbconvert_exporter": "python",
   "pygments_lexer": "ipython3",
   "version": "3.6.5"
  }
 },
 "nbformat": 4,
 "nbformat_minor": 2
}

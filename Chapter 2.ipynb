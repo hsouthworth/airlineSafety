{
 "cells": [
  {
   "cell_type": "markdown",
   "metadata": {},
   "source": [
    "# Series Object\n",
    "\n",
    "DataFrame objects are like a dictionary full of series objects. \n",
    "\n",
    "They are also very similar to the list object in python. As such, the easiest way to create one is to import a list and pass it into a series object. However, series objects differ from python lists in that they must contain objects of the same type. For example, if you were to create a series with mixed data types, then the most common datatype will be used to describe all of the data."
   ]
  },
  {
   "cell_type": "code",
   "execution_count": 1,
   "metadata": {},
   "outputs": [
    {
     "name": "stdout",
     "output_type": "stream",
     "text": [
      "0     Apple\n",
      "1    Orange\n",
      "2      Pear\n",
      "3    Banana\n",
      "dtype: object\n"
     ]
    }
   ],
   "source": [
    "import pandas\n",
    "\n",
    "fruit = pandas.Series(['Apple', 'Orange', 'Pear', 'Banana'])\n",
    "\n",
    "print(fruit)"
   ]
  },
  {
   "cell_type": "markdown",
   "metadata": {},
   "source": [
    "As you can see, when you print out a series object, it gives you a numbered list of all of the objects in the series as well as the most common datatype of that series. \n",
    "\n",
    "Simliarly to the dataframe objext, we can actually change the index names of the series object to reflect what the values in the series are. \n",
    "\n",
    "For example:"
   ]
  },
  {
   "cell_type": "code",
   "execution_count": 3,
   "metadata": {},
   "outputs": [
    {
     "name": "stdout",
     "output_type": "stream",
     "text": [
      "Person                  Steve Jobs\n",
      "Description    Co-Founder of Apple\n",
      "dtype: object\n"
     ]
    }
   ],
   "source": [
    "\n",
    "people = pandas. Series(['Steve Jobs', 'Co-Founder of Apple'], index=['Person', 'Description'])\n",
    "\n",
    "print(people)"
   ]
  },
  {
   "cell_type": "markdown",
   "metadata": {},
   "source": [
    "By using the setting the index option during the creating of the series object, you can specify a list to be used as the names of the rows in the series\n",
    "\n",
    "\n",
    "## Series Methods\n",
    "\n",
    "In the last chapter, I talked about some of the methods that could be applied to a series object such as the sum() and mean() methods. But there are many more methods that can be performed on a series object such as:\n",
    "\n",
    "* append( ) - concatenates two or more series\n",
    "* describe( ) - Calculates a summary of statistics\n",
    "* hist( ) - creates a histogram of the data\n",
    "* min( ) and max( ) - returns the minimum and maximum values of the series\n",
    "* sort_values( ) - sorts the values in the series\n",
    "* Along with many more methods\n",
    "\n",
    "Lets use the sample data from the last chapter to explore these methods.\n"
   ]
  },
  {
   "cell_type": "code",
   "execution_count": 9,
   "metadata": {},
   "outputs": [
    {
     "name": "stdout",
     "output_type": "stream",
     "text": [
      "count    432.000000\n",
      "mean       2.322785\n",
      "std        0.919252\n",
      "min        0.145000\n",
      "25%        1.584000\n",
      "50%        2.425000\n",
      "75%        2.861000\n",
      "max        6.331000\n",
      "Name: Value (kWh), dtype: float64\n"
     ]
    }
   ],
   "source": [
    "import pandas\n",
    "\n",
    "dataframe = pandas.read_csv('usage_2018-08-22.csv')\n",
    "group_value = dataframe['Value (kWh)']\n",
    "group_description = group_value.describe()\n",
    "print(group_description)"
   ]
  },
  {
   "cell_type": "markdown",
   "metadata": {},
   "source": [
    "As I stated above, the describe methods calculates a summary of statistics including the count, mean, standard deviation, minimum, maximum, and the estimated values at 25%, 50%, and 75%.\n"
   ]
  },
  {
   "cell_type": "code",
   "execution_count": 8,
   "metadata": {},
   "outputs": [
    {
     "name": "stdout",
     "output_type": "stream",
     "text": [
      "103    0.145\n",
      "121    0.202\n",
      "222    0.205\n",
      "175    0.396\n",
      "127    0.448\n",
      "155    0.499\n",
      "200    0.541\n",
      "125    0.605\n",
      "131    0.653\n",
      "132    0.658\n",
      "225    0.718\n",
      "101    0.730\n",
      "119    0.772\n",
      "220    0.776\n",
      "153    0.783\n",
      "Name: Value (kWh), dtype: float64\n"
     ]
    }
   ],
   "source": [
    "import pandas\n",
    "\n",
    "dataframe = pandas.read_csv('usage_2018-08-22.csv')\n",
    "group_value = dataframe['Value (kWh)']\n",
    "group_sorted = group_value.sort_values()\n",
    "print(group_sorted.head(15))"
   ]
  },
  {
   "cell_type": "markdown",
   "metadata": {},
   "source": [
    "You can also subset the series by using the methods above.\n",
    "\n",
    "Here are a couple of examples:\n"
   ]
  },
  {
   "cell_type": "code",
   "execution_count": 3,
   "metadata": {},
   "outputs": [
    {
     "name": "stdout",
     "output_type": "stream",
     "text": [
      "Mean Value = 2.3227847222222224\n",
      "\n",
      "0     2.343\n",
      "12    2.441\n",
      "13    2.500\n",
      "14    2.546\n",
      "15    2.584\n",
      "16    2.570\n",
      "17    2.895\n",
      "18    2.547\n",
      "19    2.512\n",
      "20    2.489\n",
      "21    2.471\n",
      "22    2.459\n",
      "35    2.411\n",
      "36    2.432\n",
      "37    2.858\n",
      "Name: Value (kWh), dtype: float64\n",
      "\n",
      "Value at 90% = 3.515200000000002\n",
      "\n",
      "43     4.261\n",
      "45     3.552\n",
      "58     3.641\n",
      "69     3.585\n",
      "140    3.849\n",
      "141    3.859\n",
      "165    3.946\n",
      "168    4.617\n",
      "178    3.879\n",
      "185    3.637\n",
      "186    4.109\n",
      "229    3.760\n",
      "260    4.360\n",
      "261    3.594\n",
      "274    4.458\n",
      "Name: Value (kWh), dtype: float64\n"
     ]
    }
   ],
   "source": [
    "import pandas\n",
    "\n",
    "dataframe = pandas.read_csv('usage_2018-08-22.csv')\n",
    "group_value = dataframe['Value (kWh)']\n",
    "group_mean = group_value.mean()\n",
    "print(\"Mean Value = \" + str(group_mean) + \"\\n\")\n",
    "print(group_value[group_value > group_value.mean()].head(15)) # This prints all of the values that are greater than the mean\n",
    "\n",
    "\n",
    "group_quantile = group_value.quantile(.90)\n",
    "print(\"\\nValue at 90% = \" + str(group_quantile) + \"\\n\")\n",
    "print(group_value[group_value > group_value.quantile(.90)].head(15)) # This prints all of the values that are in the top 90% "
   ]
  },
  {
   "cell_type": "markdown",
   "metadata": {},
   "source": [
    "\n",
    "\n",
    "# Dataframe Object\n",
    "\n",
    "As I said above, the Dataframe object is just a dictionary of multiple series objects. And in the same way the we create series objects, we can also create dataframe objects. To create a dataframe, we can simply pass in a dictionary of series objects into the dataframe.\n",
    "\n",
    "To create a dictionary, first you specify the name of the column, followed by a colon, and then the list of all of the data in that column. This will create one series object. To continue create more columns, simply repeat this process separating each name:value pair with commas."
   ]
  },
  {
   "cell_type": "code",
   "execution_count": 5,
   "metadata": {},
   "outputs": [
    {
     "name": "stdout",
     "output_type": "stream",
     "text": [
      "     Name  Price Exp. Date\n",
      "0   Apple    1.0      11/1\n",
      "1  Orange    1.5      11/5\n",
      "2    Pear    2.0     10/30\n"
     ]
    }
   ],
   "source": [
    "\n",
    "products = pandas.DataFrame({\n",
    "    'Name' : ['Apple', 'Orange', 'Pear'],\n",
    "    'Price' : [1.00, 1.50, 2.00],\n",
    "    'Exp. Date' : ['11/1', '11/5', '10/30']\n",
    "})\n",
    "\n",
    "print(products)"
   ]
  },
  {
   "cell_type": "markdown",
   "metadata": {},
   "source": [
    "The order in which you add things to your dataframe object are not guarenteed to appear in that odrer when it is created. A lot of times when you are running different anaylses on your data, you need to know which data is in which column, and if you want to automate that task, then that data always needs to be in the same postition. \n",
    "\n",
    "To enure that the data you enter stays in the same order, you need to set the columns options with a list of the names of the columns in the order in which you want them to appear. \n",
    "\n",
    "For example, if I want to reorder the above dataframe but start with the Exp. Date, then the price, and lastly the name, I should do the following:\n"
   ]
  },
  {
   "cell_type": "code",
   "execution_count": 10,
   "metadata": {},
   "outputs": [
    {
     "name": "stdout",
     "output_type": "stream",
     "text": [
      "<class 'pandas.core.frame.DataFrame'>\n",
      "  Exp. Date  Price    Name\n",
      "0      11/1    1.0   Apple\n",
      "1      11/5    1.5  Orange\n",
      "2     10/30    2.0    Pear\n"
     ]
    }
   ],
   "source": [
    "products = pandas.DataFrame({\n",
    "    'Name' : ['Apple', 'Orange', 'Pear'],\n",
    "    'Price' : [1.00, 1.50, 2.00],\n",
    "    'Exp. Date' : ['11/1', '11/5', '10/30']},\n",
    "    columns=['Exp. Date', 'Price', 'Name']\n",
    ")\n",
    "\n",
    "print(type(products))\n",
    "\n",
    "print(products)"
   ]
  },
  {
   "cell_type": "markdown",
   "metadata": {},
   "source": [
    "Just as you saw in series objects, you can select certain rows of a dataframe object using boolean statements, such as selecting all of the rows where the value of the price of the fruit is greater than the average price. \n"
   ]
  },
  {
   "cell_type": "code",
   "execution_count": 8,
   "metadata": {},
   "outputs": [
    {
     "name": "stdout",
     "output_type": "stream",
     "text": [
      "<class 'pandas.core.frame.DataFrame'>\n",
      "\n",
      "The average price is: 1.625\n",
      "\n",
      "  Exp. Date  Price   Name\n",
      "2     10/30   2.00   Pear\n",
      "4     11/10   1.75  Grape\n",
      "5      11/9   3.00   Kiwi\n"
     ]
    }
   ],
   "source": [
    "products = pandas.DataFrame({\n",
    "    'Name' : ['Apple', 'Orange', 'Pear', 'Banana', 'Grape', 'Kiwi'],\n",
    "    'Price' : [1.00, 1.50, 2.00, .50, 1.75, 3.00],\n",
    "    'Exp. Date' : ['11/1', '11/5', '10/30', '11/17', '11/10', '11/9']},\n",
    "    columns=['Exp. Date', 'Price', 'Name']\n",
    ")\n",
    "\n",
    "print(str(type(products))+\"\\n\")\n",
    "\n",
    "print(\"The average price is: \"+str(products['Price'].mean())+\"\\n\")\n",
    "\n",
    "print(products[products['Price'] > products['Price'].mean()])"
   ]
  },
  {
   "cell_type": "markdown",
   "metadata": {},
   "source": [
    "This is just one of the ways that you can subset data from a dataframe object. \n",
    "Other ways include:\n",
    "\n",
    "* df[colunm_name] - Selects a single column\n",
    "* df[column_one, column_two,...] - Selects multiple columns\n",
    "* df.loc[row_index] - Selects a single row\n",
    "* df.loc[row_one, row_two, ...] - Selects multiple rows\n",
    "* df.iloc - Similar to loc, but selects by row name, rather than row index\n",
    "* df[bool] - Selects a row based on a boolean value\n",
    "* df[bool_one, bool_two, ...] - Selects multiple rows based on boolean values\n",
    "* df[start,stop,step] - Selects rows based using the slicing methods of other python objects\n",
    "\n",
    "You can also combine the subsetting methods for both row and columns to select single pieces of information from your dataframe object. \n"
   ]
  },
  {
   "cell_type": "code",
   "execution_count": 20,
   "metadata": {},
   "outputs": [
    {
     "name": "stdout",
     "output_type": "stream",
     "text": [
      "<class 'pandas.core.frame.DataFrame'>\n",
      "\n",
      "  Exp. Date  Price    Name\n",
      "0      11/1   1.00   Apple\n",
      "1      11/5   1.50  Orange\n",
      "2     10/30   2.00    Pear\n",
      "3     11/17   0.50  Banana\n",
      "4     11/10   1.75   Grape\n",
      "5      11/9   3.00    Kiwi\n",
      "1.5\n"
     ]
    }
   ],
   "source": [
    "products = pandas.DataFrame({\n",
    "    'Name' : ['Apple', 'Orange', 'Pear', 'Banana', 'Grape', 'Kiwi'],\n",
    "    'Price' : [1.00, 1.50, 2.00, .50, 1.75, 3.00],\n",
    "    'Exp. Date' : ['11/1', '11/5', '10/30', '11/17', '11/10', '11/9']},\n",
    "    columns=['Exp. Date', 'Price', 'Name']\n",
    ")\n",
    "\n",
    "print(str(type(products))+\"\\n\")\n",
    "\n",
    "print(products)\n",
    "\n",
    "print(products['Price'].loc[1]) # Will print out the price of the second row in the dataframe"
   ]
  },
  {
   "cell_type": "markdown",
   "metadata": {},
   "source": [
    "# Changing our Data\n",
    "\n",
    "The Pandas library also allows use to make changes to our data. For example, maybe when we were creating our own data, we forgot to add another field to the dataframe. \n",
    "\n",
    "Currently our fruits dataframe looks like this:\n",
    "\n",
    "* Exp. Date  Price    Name\n",
    "* 0      11/1   1.00   Apple\n",
    "* 1      11/5   1.50  Orange\n",
    "* 2     10/30   2.00    Pear\n",
    "* 3     11/17   0.50  Banana\n",
    "* 4     11/10   1.75   Grape\n",
    "* 5      11/9   3.00    Kiwi\n",
    "\n",
    "But how would we add another column that displays the ilse number in the store where you can find that fruit?\n",
    "To add a column, you simply create a list of the new values you want to add, and then set your new column in the dataframe to that list.\n"
   ]
  },
  {
   "cell_type": "code",
   "execution_count": 21,
   "metadata": {},
   "outputs": [
    {
     "name": "stdout",
     "output_type": "stream",
     "text": [
      "  Exp. Date  Price    Name  Isle\n",
      "0      11/1   1.00   Apple     4\n",
      "1      11/5   1.50  Orange    10\n",
      "2     10/30   2.00    Pear    11\n",
      "3     11/17   0.50  Banana     4\n",
      "4     11/10   1.75   Grape     6\n",
      "5      11/9   3.00    Kiwi     8\n"
     ]
    }
   ],
   "source": [
    "isle_numbers = [4, 10, 11, 4, 6, 8] # The new list of isle numbers to be added\n",
    "\n",
    "products['Isle'] = isle_numbers # Even though products['Isle'] doesnt exist, by setting it equal to the list we created, it then adds that new column to the dataframe\n",
    "\n",
    "print(products)"
   ]
  },
  {
   "cell_type": "markdown",
   "metadata": {},
   "source": [
    "## Deleting Data\n",
    "\n",
    "What if there is a column in your data that is completely useless and you want to delete it? Well, pandas also provides you with a way to do that.\n",
    "\n",
    "Dataframes in pandas come with the method drop( ), which takes the name of the column you wish to drop and returns a new dataframe without the specified column. The drop method can drop both columns and rows, which is why you must also specify the axis agrument. Set axis to 1 to drop columns wise, and set axis to two to drop row wise. \n",
    "\n",
    "Note that the drop method does not affect the dataframe it is used on. It simply creates a new dataframe without the specified column\n"
   ]
  },
  {
   "cell_type": "code",
   "execution_count": 22,
   "metadata": {},
   "outputs": [
    {
     "name": "stdout",
     "output_type": "stream",
     "text": [
      "  Exp. Date  Price    Name\n",
      "0      11/1   1.00   Apple\n",
      "1      11/5   1.50  Orange\n",
      "2     10/30   2.00    Pear\n",
      "3     11/17   0.50  Banana\n",
      "4     11/10   1.75   Grape\n",
      "5      11/9   3.00    Kiwi\n",
      "\n",
      "\n",
      "  Exp. Date  Price    Name\n",
      "0      11/1   1.00   Apple\n",
      "1      11/5   1.50  Orange\n",
      "2     10/30   2.00    Pear\n",
      "3     11/17   0.50  Banana\n",
      "4     11/10   1.75   Grape\n"
     ]
    }
   ],
   "source": [
    "# Lets delete the Isle column that we just create as well as the Kiwi row\n",
    "\n",
    "products_drop_col = products.drop(['Isle'], axis=1) # Drops the Isle column\n",
    "\n",
    "print(products_drop_col)\n",
    "print(\"\\n\")\n",
    "\n",
    "products_drop_row = products_drop_col.drop([5], axis=0) # Drops the 6th indexed row\n",
    "\n",
    "print(products_drop_row)\n",
    "\n"
   ]
  },
  {
   "cell_type": "markdown",
   "metadata": {},
   "source": [
    "# Saving our Data\n",
    "\n",
    "In the previous chapter, we imported data to perform analyses on. But what is we made changes to our datasets and wanted to save those changes? The Pandas library also allows you do do this.\n",
    "\n",
    "One way of doing this is to pickle the data. Pickle data is python's way of serializing and saving the data in binary format. It is called by using the to_pickle( ) method, where you pass on the path of where you want to save the data.\n",
    "So lets try an save our product data by pickling it.\n"
   ]
  },
  {
   "cell_type": "code",
   "execution_count": 23,
   "metadata": {},
   "outputs": [],
   "source": [
    "products.to_pickle('products_df.pickle') # Since I want to save this in my current directory, I can simly just put the name of the file as the path"
   ]
  },
  {
   "cell_type": "code",
   "execution_count": 25,
   "metadata": {},
   "outputs": [
    {
     "name": "stdout",
     "output_type": "stream",
     "text": [
      "  Exp. Date  Price    Name  Isle\n",
      "0      11/1   1.00   Apple     4\n",
      "1      11/5   1.50  Orange    10\n",
      "2     10/30   2.00    Pear    11\n",
      "3     11/17   0.50  Banana     4\n",
      "4     11/10   1.75   Grape     6\n",
      "5      11/9   3.00    Kiwi     8\n"
     ]
    }
   ],
   "source": [
    "# How do we know if the pickle worked?\n",
    "# We can alse read in pickle data using the read_pickle() method\n",
    "\n",
    "products_from_pickle = pandas.read_pickle('products_df.pickle')\n",
    "\n",
    "print(products_from_pickle)"
   ]
  },
  {
   "cell_type": "markdown",
   "metadata": {},
   "source": [
    "Pickling out data is a great way for us to save and access our data, but its not human readable as it is stored in a binary format. So what about when we want to examine our data not using Python or Pandas? Luckily pickling our data is not our only way of saving it. \n",
    "\n",
    "As we saw in the first chapter, we loaded in data using the read_csv( ) function which loaded in a comma separated values list and stores it as a dataframe. Pandas also provides us with the ability to save it as a csv using the function to_csv( ), which takes an argument for the path to the file you want to save."
   ]
  },
  {
   "cell_type": "code",
   "execution_count": 26,
   "metadata": {},
   "outputs": [],
   "source": [
    "products.to_csv('products_df.csv')"
   ]
  },
  {
   "cell_type": "code",
   "execution_count": 27,
   "metadata": {},
   "outputs": [
    {
     "name": "stdout",
     "output_type": "stream",
     "text": [
      "   Unnamed: 0 Exp. Date  Price    Name  Isle\n",
      "0           0      11/1   1.00   Apple     4\n",
      "1           1      11/5   1.50  Orange    10\n",
      "2           2     10/30   2.00    Pear    11\n",
      "3           3     11/17   0.50  Banana     4\n",
      "4           4     11/10   1.75   Grape     6\n",
      "5           5      11/9   3.00    Kiwi     8\n"
     ]
    }
   ],
   "source": [
    "# Again, how do know if this worked?\n",
    "# Lets read in the csv file we just created with the read_csv() function\n",
    "\n",
    "products_from_csv = pandas.read_csv('products_df.csv')\n",
    "\n",
    "print(products_from_csv)"
   ]
  },
  {
   "cell_type": "markdown",
   "metadata": {},
   "source": [
    "# Exercise\n",
    "\n",
    "First, I want you to create a new dataframe object that has information about other students in the class. You should store at least 10 students and keep track of their name, age, standing(freshman, sophmore, ...), major, and grade in the class. I want the name to be used as the row name and for those attributes to be in the that order.\n",
    "\n",
    "Then, I want a list of all of the students who have an A in the class, and another list of all the students whose age is smaller than the average.\n",
    "\n",
    "Then, say student number 4 decided to drop the class, which also made studnet number 8 drop as well. I want you to delete those students, save the remaining students data into a csv file, and then read back in that file to show that it saved with the deleted students."
   ]
  },
  {
   "cell_type": "code",
   "execution_count": 40,
   "metadata": {},
   "outputs": [
    {
     "name": "stdout",
     "output_type": "stream",
     "text": [
      "            Age  Standing Major  Grade\n",
      "Student 1    18  Freshman  CITE     74\n",
      "Student 2    18  Freshamn  COSC     88\n",
      "Student 3    19  Sophmore  POSC     91\n",
      "Student 4    23    Senior  MATH     96\n",
      "Student 5    22    Senior  CITE     78\n",
      "Student 6    18  Freshman  PHYS     82\n",
      "Student 7    28    Junior  COSC     90\n",
      "Student 8    20  Sophmore  CITE     79\n",
      "Student 9    21    Junior  ANTH     89\n",
      "Student 10   24    Senior  SOCI     85\n",
      "\n",
      "The students who have an A in the class are: \n",
      "\n",
      "           Age  Standing Major  Grade\n",
      "Student 3   19  Sophmore  POSC     91\n",
      "Student 4   23    Senior  MATH     96\n",
      "\n",
      "The average age of students is: 21.1\n",
      "\n",
      "           Age  Standing Major  Grade\n",
      "Student 1   18  Freshman  CITE     74\n",
      "Student 2   18  Freshamn  COSC     88\n",
      "Student 3   19  Sophmore  POSC     91\n",
      "Student 6   18  Freshman  PHYS     82\n",
      "Student 8   20  Sophmore  CITE     79\n",
      "Student 9   21    Junior  ANTH     89\n",
      "\n",
      "\n",
      "   Unnamed: 0  Age  Standing Major  Grade\n",
      "0   Student 1   18  Freshman  CITE     74\n",
      "1   Student 2   18  Freshamn  COSC     88\n",
      "2   Student 3   19  Sophmore  POSC     91\n",
      "3   Student 5   22    Senior  CITE     78\n",
      "4   Student 6   18  Freshman  PHYS     82\n",
      "5   Student 7   28    Junior  COSC     90\n",
      "6   Student 9   21    Junior  ANTH     89\n",
      "7  Student 10   24    Senior  SOCI     85\n"
     ]
    }
   ],
   "source": [
    "students = pandas.DataFrame({\n",
    "    'Age' : [18,18,19,23,22,18,28,20,21,24],\n",
    "    'Standing' : ['Freshman', 'Freshamn', 'Sophmore', 'Senior', 'Senior', 'Freshman', 'Junior', 'Sophmore', 'Junior', 'Senior'],\n",
    "    'Major' : ['CITE','COSC','POSC','MATH','CITE','PHYS','COSC','CITE','ANTH','SOCI'],\n",
    "    'Grade' : [74, 88, 91, 96, 78, 82, 90, 79, 89, 85]},\n",
    "    index=['Student 1','Student 2','Student 3','Student 4','Student 5','Student 6','Student 7','Student 8','Student 9','Student 10'],\n",
    "    columns=['Age', 'Standing', 'Major', 'Grade']\n",
    ")\n",
    "\n",
    "print(students)\n",
    "\n",
    "print(\"\\nThe students who have an A in the class are: \\n\")\n",
    "\n",
    "print(students[students['Grade'] > 90])\n",
    "\n",
    "print(\"\\nThe average age of students is: \" + str(students['Age'].mean())+\"\\n\")\n",
    "\n",
    "print(students[students['Age'] < students['Age'].mean()])\n",
    "\n",
    "print(\"\\n\")\n",
    "\n",
    "students_dropped = students.drop([\"Student 4\", \"Student 8\"], axis=0)\n",
    "\n",
    "students_dropped.to_csv('Students_df.csv')\n",
    "\n",
    "students_from_csv = pandas.read_csv('Students_df.csv')\n",
    "\n",
    "print(students_from_csv)\n"
   ]
  },
  {
   "cell_type": "code",
   "execution_count": null,
   "metadata": {},
   "outputs": [],
   "source": []
  }
 ],
 "metadata": {
  "kernelspec": {
   "display_name": "Python 3",
   "language": "python",
   "name": "python3"
  },
  "language_info": {
   "codemirror_mode": {
    "name": "ipython",
    "version": 3
   },
   "file_extension": ".py",
   "mimetype": "text/x-python",
   "name": "python",
   "nbconvert_exporter": "python",
   "pygments_lexer": "ipython3",
   "version": "3.6.5"
  }
 },
 "nbformat": 4,
 "nbformat_minor": 2
}

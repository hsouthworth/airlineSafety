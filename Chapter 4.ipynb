{
 "cells": [
  {
   "cell_type": "markdown",
   "metadata": {},
   "source": [
    "# Data Assembly\n",
    "\n",
    "By now, we have learned the basics of the pandas library. We can create our own data, we can load in outside data, and we can plot that data. But up until now, we have only been working with a single dataset, and if we are being honest, the world of data analytics would be a lot easier if all of our data was in one easy to use set. But in the real world, all of the data is stored in different kinds of sets and to anaylze them requires us to combine these sets together\n",
    "\n",
    "## Concatenation\n",
    "\n",
    "Concatenation for a dataframe is the same as it is when you concatenate strings together. The concat( ) function is the pandas library simply appends the new rows or columns you wish to add to the existing dataframe. \n"
   ]
  },
  {
   "cell_type": "code",
   "execution_count": 3,
   "metadata": {},
   "outputs": [
    {
     "name": "stdout",
     "output_type": "stream",
     "text": [
      "            Age  Standing Major  Grade\n",
      "Student 1    18  Freshman  CITE     18\n",
      "Student 2    18  Freshamn  COSC     19\n",
      "Student 3    19  Sophmore  POSC     91\n",
      "Student 4    23    Senior  MATH     96\n",
      "Student 5    22    Senior  CITE     78\n",
      "Student 6    18  Freshman  PHYS     82\n",
      "Student 7    28    Junior  COSC     90\n",
      "Student 8    20  Sophmore  CITE     79\n",
      "Student 9    21    Junior  ANTH     89\n",
      "Student 10   24    Senior  SOCI     85\n",
      "Student 11   23    Senior  MATH     88\n",
      "Student 12   45  Sophmore  CITE     67\n",
      "Student 13   32  Sophmore  BUSI     90\n",
      "Student 14   19  Freshman  PHIL     71\n",
      "Student 15   27    Junior  COSC     83\n",
      "Student 16   49    Senior  PHIL     78\n",
      "Student 17   44  Freshman  MATH     83\n",
      "Student 18   31    Junior  COSC     93\n",
      "Student 19   21  Sophmore  CITE     89\n",
      "Student 20   22    Senior  ANTH     76\n"
     ]
    }
   ],
   "source": [
    "import pandas\n",
    "\n",
    "# Now there are two separate dataframes containing data on students that I want to combine together\n",
    "\n",
    "students1 = pandas.DataFrame({\n",
    "    'Age' : [18,18,19,23,22,18,28,20,21,24],\n",
    "    'Standing' : ['Freshman', 'Freshamn', 'Sophmore', 'Senior', 'Senior', 'Freshman', 'Junior', 'Sophmore', 'Junior', 'Senior'],\n",
    "    'Major' : ['CITE','COSC','POSC','MATH','CITE','PHYS','COSC','CITE','ANTH','SOCI'],\n",
    "    'Grade' : [18, 19, 91, 96, 78, 82, 90, 79, 89, 85]},\n",
    "    index=['Student 1','Student 2','Student 3','Student 4','Student 5','Student 6','Student 7','Student 8','Student 9','Student 10'],\n",
    "    columns=['Age', 'Standing', 'Major', 'Grade']\n",
    ")\n",
    "\n",
    "students2 = pandas.DataFrame({\n",
    "    'Age' : [23, 45, 32, 19, 27, 49, 44, 31, 21, 22],\n",
    "    'Standing' : ['Senior', 'Sophmore', 'Sophmore', 'Freshman', 'Junior', 'Senior', 'Freshman', 'Junior', 'Sophmore', 'Senior'],\n",
    "    'Major' : ['MATH','CITE','BUSI','PHIL','COSC','PHIL','MATH','COSC','CITE','ANTH'],\n",
    "    'Grade' : [88, 67, 90, 71, 83, 78, 83, 93, 89, 76]},\n",
    "    index=['Student 11','Student 12','Student 13','Student 14','Student 15','Student 16','Student 17','Student 18','Student 19','Student 20'],\n",
    "    columns=['Age', 'Standing', 'Major', 'Grade']\n",
    ")\n",
    "\n",
    "all_students = pandas.concat([students1, students2])\n",
    "\n",
    "print(all_students)\n"
   ]
  },
  {
   "cell_type": "markdown",
   "metadata": {},
   "source": [
    "As you can see, the concat function simply added the new dataframe onto the existing one. \n",
    "\n",
    "But what if we wanted to concatenate a single row?\n",
    "\n",
    "This can be accomplished by concatenating a series onto the dataframe"
   ]
  },
  {
   "cell_type": "code",
   "execution_count": 23,
   "metadata": {},
   "outputs": [
    {
     "name": "stdout",
     "output_type": "stream",
     "text": [
      "             Age  Standing Major  Grade     0\n",
      "Student 1   18.0  Freshman  CITE   18.0   NaN\n",
      "Student 2   18.0  Freshamn  COSC   19.0   NaN\n",
      "Student 3   19.0  Sophmore  POSC   91.0   NaN\n",
      "Student 4   23.0    Senior  MATH   96.0   NaN\n",
      "Student 5   22.0    Senior  CITE   78.0   NaN\n",
      "Student 6   18.0  Freshman  PHYS   82.0   NaN\n",
      "Student 7   28.0    Junior  COSC   90.0   NaN\n",
      "Student 8   20.0  Sophmore  CITE   79.0   NaN\n",
      "Student 9   21.0    Junior  ANTH   89.0   NaN\n",
      "Student 10  24.0    Senior  SOCI   85.0   NaN\n",
      "Student 11  23.0    Senior  MATH   88.0   NaN\n",
      "Student 12  45.0  Sophmore  CITE   67.0   NaN\n",
      "Student 13  32.0  Sophmore  BUSI   90.0   NaN\n",
      "Student 14  19.0  Freshman  PHIL   71.0   NaN\n",
      "Student 15  27.0    Junior  COSC   83.0   NaN\n",
      "Student 16  49.0    Senior  PHIL   78.0   NaN\n",
      "Student 17  44.0  Freshman  MATH   83.0   NaN\n",
      "Student 18  31.0    Junior  COSC   93.0   NaN\n",
      "Student 19  21.0  Sophmore  CITE   89.0   NaN\n",
      "Student 20  22.0    Senior  ANTH   76.0   NaN\n",
      "0            NaN       NaN   NaN    NaN  2019\n",
      "1            NaN       NaN   NaN    NaN  2021\n",
      "2            NaN       NaN   NaN    NaN  2020\n",
      "3            NaN       NaN   NaN    NaN  2019\n"
     ]
    },
    {
     "name": "stderr",
     "output_type": "stream",
     "text": [
      "/anaconda3/lib/python3.6/site-packages/pandas/core/indexes/api.py:107: RuntimeWarning: '<' not supported between instances of 'str' and 'int', sort order is undefined for incomparable objects\n",
      "  result = result.union(other)\n"
     ]
    }
   ],
   "source": [
    "student_row = pandas.Series([2019, 2021, 2020, 2019])\n",
    "\n",
    "new_column = pandas.concat([all_students, student_row])\n",
    "\n",
    "print(new_column)"
   ]
  },
  {
   "cell_type": "markdown",
   "metadata": {},
   "source": [
    "As you can see, things didn't work out like we wanted them too.\n",
    "\n",
    "The concat method simply treated the series object like another dataframe object and concatenated them to the end of the old dataframe. Since the series object contained new data and didnt match any on the column names, it created a new column and filled in all of the missing data with NaN.\n",
    "\n",
    "NaN stands for Not a Number, which is just pythons way of saying that something is missing, or in this case does not exist.\n",
    "\n",
    "If we want to truly add the new data as a new column, we have to use the axis attribute of the concat( ) function. Setting the axis attribute to axis=1 will tell the concat function to add the data in a column-wise manner, rather than row-wise\n"
   ]
  },
  {
   "cell_type": "code",
   "execution_count": 21,
   "metadata": {},
   "outputs": [
    {
     "name": "stdout",
     "output_type": "stream",
     "text": [
      "            Age  Standing Major  Grade       0\n",
      "Student 1    18  Freshman  CITE     18  2019.0\n",
      "Student 10   24    Senior  SOCI     85     NaN\n",
      "Student 11   23    Senior  MATH     88     NaN\n",
      "Student 12   45  Sophmore  CITE     67     NaN\n",
      "Student 13   32  Sophmore  BUSI     90     NaN\n",
      "Student 14   19  Freshman  PHIL     71     NaN\n",
      "Student 15   27    Junior  COSC     83     NaN\n",
      "Student 16   49    Senior  PHIL     78     NaN\n",
      "Student 17   44  Freshman  MATH     83     NaN\n",
      "Student 18   31    Junior  COSC     93     NaN\n",
      "Student 19   21  Sophmore  CITE     89     NaN\n",
      "Student 2    18  Freshamn  COSC     19  2021.0\n",
      "Student 20   22    Senior  ANTH     76     NaN\n",
      "Student 3    19  Sophmore  POSC     91  2020.0\n",
      "Student 4    23    Senior  MATH     96  2019.0\n",
      "Student 5    22    Senior  CITE     78     NaN\n",
      "Student 6    18  Freshman  PHYS     82     NaN\n",
      "Student 7    28    Junior  COSC     90     NaN\n",
      "Student 8    20  Sophmore  CITE     79     NaN\n",
      "Student 9    21    Junior  ANTH     89     NaN\n"
     ]
    }
   ],
   "source": [
    "# By creating a Series object with the same indicies as the students dataframe,\n",
    "# When the concatenation occurs, the new values will be added to the corresponding row indicies\n",
    "import pandas\n",
    "\n",
    "student_row = pandas.Series([2019, 2021, 2020, 2019], index=['Student 1','Student 2','Student 3','Student 4'])\n",
    "\n",
    "new_column = pandas.concat([all_students, student_row], axis=1, sort = True)\n",
    "\n",
    "print(new_column)"
   ]
  },
  {
   "cell_type": "markdown",
   "metadata": {},
   "source": [
    "By default, the concat method will sort the dataframe by row index after it has concatenated the new data.\n",
    "\n",
    "To prevent this from happening, we need to set the sort attrubite to false."
   ]
  },
  {
   "cell_type": "code",
   "execution_count": 13,
   "metadata": {},
   "outputs": [
    {
     "name": "stdout",
     "output_type": "stream",
     "text": [
      "           Age  Standing Major  Grade       0\n",
      "Student 1   18  Freshman  CITE     18  2019.0\n",
      "Student 2   18  Freshamn  COSC     19  2021.0\n",
      "Student 3   19  Sophmore  POSC     91  2020.0\n",
      "Student 4   23    Senior  MATH     96  2019.0\n",
      "Student 5   22    Senior  CITE     78     NaN\n"
     ]
    }
   ],
   "source": [
    "student_row = pandas.Series([2019, 2021, 2020, 2019], index=['Student 1','Student 2','Student 3','Student 4'])\n",
    "\n",
    "new_column = pandas.concat([all_students, student_row], axis=1, sort=False)\n",
    "\n",
    "print(new_column.head())"
   ]
  },
  {
   "cell_type": "markdown",
   "metadata": {},
   "source": [
    "You can also add new columns by simply passing the dataframe a new column name and assigning it the values you want. Unlike the above method, this one allows us to name the column that we create."
   ]
  },
  {
   "cell_type": "code",
   "execution_count": 20,
   "metadata": {},
   "outputs": [
    {
     "name": "stdout",
     "output_type": "stream",
     "text": [
      "           Age  Standing Major  Grade  Grad_Year\n",
      "Student 1   18  Freshman  CITE     18       2019\n",
      "Student 2   18  Freshamn  COSC     19       2021\n",
      "Student 3   19  Sophmore  POSC     91       2020\n",
      "Student 4   23    Senior  MATH     96       2019\n",
      "Student 5   22    Senior  CITE     78       2022\n",
      "Student 6   18  Freshman  PHYS     82       2020\n"
     ]
    }
   ],
   "source": [
    "\n",
    "new_df = new_column.iloc[0:6,0:4] # Gets a subset of the first 6 rows and the first 4 columns\n",
    "\n",
    "new_df['Grad_Year'] = [2019, 2021,2020,2019,2022,2020] # This will add a new column named 'Grad_Year' with the values in the list\n",
    "\n",
    "print(new_df)"
   ]
  },
  {
   "cell_type": "markdown",
   "metadata": {},
   "source": [
    "## Merging Data\n",
    "\n",
    "Concatenation is very useful when you want to combine entire datasets together. If there are rows that have matching names when concatenating then they can be combined together, but for all the new rows, they are simply added to the end. \n",
    "\n",
    "Sometimtes with our data, we don't want to combine entire datasets, but only combine the rows that have common data values. \n",
    "\n",
    "This is accomplished with a merge( ) functions. "
   ]
  },
  {
   "cell_type": "code",
   "execution_count": 5,
   "metadata": {},
   "outputs": [],
   "source": [
    "# Here are a couple of dataframes that we can perform different types of merges on.\n",
    "\n",
    "person = pandas.DataFrame({\n",
    "    'ident' : ['dyer', 'pb', 'lake','roe','danforth'],\n",
    "    'personal' : ['William', 'Frank', 'Anderson','Valentina','Frank'],\n",
    "    'family' : ['Dyer', 'Pabodie', 'Lake','Roerich','Danforth']},\n",
    "    columns=['ident', 'personal', 'family']\n",
    ")\n",
    "\n",
    "site = pandas.DataFrame({\n",
    "    'name' : ['DR-1', 'DR-3', 'MSK-4'],\n",
    "    'lat' : ['-49.85', '-47.15', '-48.87'],\n",
    "    'long' : ['-128.57', '-126.72', '-123.40']},\n",
    "    columns=['name', 'lat', 'long']\n",
    ")\n",
    "\n",
    "visited = pandas.DataFrame({\n",
    "    'ident' : [619, 622, 734, 735, 751, 752, 837, 844],\n",
    "    'site' : ['DR-1', 'DR-1', 'DR-3', 'DR-3', 'DR-3', 'DR-3', 'MSK-4', 'DR-1'],\n",
    "    'dated' : ['1927-02-08', '1927-02-10', '1939-01-07', '1930-01-12', '1930-02-26', None, '1932-01-14', '1932-03-22']},\n",
    "    columns=['ident', 'site', 'dated']\n",
    ")"
   ]
  },
  {
   "cell_type": "markdown",
   "metadata": {},
   "source": [
    "## Different types of Merges\n",
    "\n",
    "If you are familiar with databases and SQL terminology, the different types of merges in the pandas library are very similar to the left-outer, right-outer, full-outer, and inner joins. \n",
    "\n",
    "| Pandas | SQL | Description  |\n",
    "|----|---|-------|\n",
    "| left  | left outer | Keep all of the keys from the left |\n",
    "| right  | right outer | Keep all of the keys from the right |\n",
    "| outer  | full outer | Keep all of the keys from both right and left |\n",
    "| inner  | inner |  Keep only the keys that exist in both left and right   |"
   ]
  }
 ],
 "metadata": {
  "kernelspec": {
   "display_name": "Python 3",
   "language": "python",
   "name": "python3"
  },
  "language_info": {
   "codemirror_mode": {
    "name": "ipython",
    "version": 3
   },
   "file_extension": ".py",
   "mimetype": "text/x-python",
   "name": "python",
   "nbconvert_exporter": "python",
   "pygments_lexer": "ipython3",
   "version": "3.6.5"
  }
 },
 "nbformat": 4,
 "nbformat_minor": 2
}

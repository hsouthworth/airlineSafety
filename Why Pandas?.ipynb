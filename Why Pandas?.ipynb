{
 "cells": [
  {
   "cell_type": "markdown",
   "metadata": {},
   "source": [
    "# What is Pandas?\n",
    "\n",
    "Pandas is an open source Python library used for data anaylsis.\n",
    "\n",
    "Pandas has to ability to work with spreadsheet-like data for:\n",
    "* Fast data-loading\n",
    "* Data manipulation\n",
    "* Data alignment \n",
    "* Data merging\n",
    "* And many other functions"
   ]
  },
  {
   "cell_type": "markdown",
   "metadata": {},
   "source": [
    "# What are the benefits of using Pandas with Python?\n",
    "\n",
    "There is an extraordinary amount of data out in the world, and all of it is just waiting to be analyzed. Pandas provides a way for anyone to quickly bring in that data to perform all kinds of data analytic tasks."
   ]
  },
  {
   "cell_type": "markdown",
   "metadata": {},
   "source": [
    "# Pandas provides the following capabilities:\n",
    "* Working with DataFrame objects for your imported data\n",
    "* Using Series objects to create your own data\n",
    "* Creating plots and graphs using matplotlib\n",
    "* Ability to combine different datasets\n",
    "* Add/Delete/Modify datasets \n",
    "* Data Manipulation\n",
    "* Cleaning Data\n",
    "* And Data Modeling\n"
   ]
  },
  {
   "cell_type": "code",
   "execution_count": null,
   "metadata": {},
   "outputs": [],
   "source": []
  }
 ],
 "metadata": {
  "kernelspec": {
   "display_name": "Python 3",
   "language": "python",
   "name": "python3"
  },
  "language_info": {
   "codemirror_mode": {
    "name": "ipython",
    "version": 3
   },
   "file_extension": ".py",
   "mimetype": "text/x-python",
   "name": "python",
   "nbconvert_exporter": "python",
   "pygments_lexer": "ipython3",
   "version": "3.6.5"
  }
 },
 "nbformat": 4,
 "nbformat_minor": 2
}
